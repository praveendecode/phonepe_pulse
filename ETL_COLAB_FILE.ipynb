{
  "nbformat": 4,
  "nbformat_minor": 0,
  "metadata": {
    "colab": {
      "provenance": []
    },
    "kernelspec": {
      "name": "python3",
      "display_name": "Python 3"
    },
    "language_info": {
      "name": "python"
    }
  },
  "cells": [
    {
      "cell_type": "markdown",
      "source": [
        "# **GIT REPOSITORY CLONING :**"
      ],
      "metadata": {
        "id": "gQR8BKiQ9j-p"
      }
    },
    {
      "cell_type": "code",
      "execution_count": null,
      "metadata": {
        "id": "NEA61IgtZr-F",
        "colab": {
          "base_uri": "https://localhost:8080/"
        },
        "outputId": "6a4ca336-7318-4466-ce5d-212ead1749c2"
      },
      "outputs": [
        {
          "output_type": "stream",
          "name": "stdout",
          "text": [
            "Cloning into 'pulse'...\n",
            "remote: Enumerating objects: 7975, done.\u001b[K\n",
            "remote: Counting objects: 100% (7975/7975), done.\u001b[K\n",
            "remote: Compressing objects: 100% (6637/6637), done.\u001b[K\n",
            "remote: Total 7975 (delta 2465), reused 6527 (delta 1031), pack-reused 0\u001b[K\n",
            "Receiving objects: 100% (7975/7975), 2.11 MiB | 6.19 MiB/s, done.\n",
            "Resolving deltas: 100% (2465/2465), done.\n"
          ]
        }
      ],
      "source": [
        "!git clone https://github.com/PhonePe/pulse.git"
      ]
    },
    {
      "cell_type": "code",
      "source": [
        "# REQUIRED LIBRARIES\n",
        "\n",
        "import pandas as pd\n",
        "\n",
        "import os\n",
        "\n",
        "import json\n",
        "\n",
        "import pandas as pd\n",
        "\n",
        "import numpy as np\n",
        "\n",
        "from sqlalchemy import create_engine"
      ],
      "metadata": {
        "id": "RVO3hXM-Z28R"
      },
      "execution_count": null,
      "outputs": []
    },
    {
      "cell_type": "markdown",
      "source": [
        "#  **AGGREAGATED TRANSACTION :**\n",
        "\n",
        "\n",
        "\n"
      ],
      "metadata": {
        "id": "-ISC2_er-ips"
      }
    },
    {
      "cell_type": "code",
      "source": [
        "# PATH OF AGGREAGATED TRANSACTION MENTIONED BELOW\n",
        "\n",
        "path = \"/content/pulse/data/aggregated/transaction/country/india/state/\"\n",
        "\n",
        "Agg_state_Name_list = os.listdir(path)\n",
        "\n",
        "Agg_state_Name_list # cONTAINS EVERY STATE NAMES\n",
        "\n",
        "Full_Data={'state':[], 'year':[],'quater':[],'agg_transaction_type':[], 'agg_transaction_count':[], 'agg_transaction_amount':[]} # DATA CONTAINER  for DATAFRAME\n",
        "\n",
        "for i in Agg_state_Name_list:  # For state names\n",
        "  path_i = path+i+'/'\n",
        "  path_year = os.listdir(path_i)\n",
        "  for year in path_year:       # For years\n",
        "    path_year_file = path_i+year\n",
        "    year_files = os.listdir(path_year_file)\n",
        "    for file_ in year_files: # For each year files\n",
        "      file_path = path_year_file+'/'+file_\n",
        "      data_file = open(file_path,'r')\n",
        "      Data = json.load(data_file)\n",
        "      for z in Data['data'][\"transactionData\"]:\n",
        "        Name = z['name']\n",
        "        count = z[\"paymentInstruments\"][0][\"count\"]\n",
        "        amount = z[\"paymentInstruments\"][0][\"amount\"]\n",
        "        Full_Data['agg_transaction_type'].append(Name)\n",
        "        Full_Data['agg_transaction_count'].append(count)\n",
        "        Full_Data['agg_transaction_amount'].append(amount)\n",
        "        Full_Data['state'].append(i)\n",
        "        Full_Data['year'].append(year)\n",
        "        Full_Data['quater'].append(int(file_.strip('.json')))"
      ],
      "metadata": {
        "id": "V5lwhP2-Z25w"
      },
      "execution_count": null,
      "outputs": []
    },
    {
      "cell_type": "code",
      "source": [
        "# DATAFRAME CREATED\n",
        "\n",
        "agg_transaction = pd.DataFrame(Full_Data)\n"
      ],
      "metadata": {
        "id": "tBOmTheeZ204"
      },
      "execution_count": null,
      "outputs": []
    },
    {
      "cell_type": "code",
      "source": [
        "# CSV FILE MADE\n",
        "agg_transaction.to_csv(\"aggregated_transaction.csv\", index=False)"
      ],
      "metadata": {
        "id": "hHyJerGL8EKf"
      },
      "execution_count": null,
      "outputs": []
    },
    {
      "cell_type": "code",
      "source": [
        "# Inserting Data into sql\n",
        "\n",
        "table_name = 'aggregated_transaction'\n",
        "\n",
        "Dataframe.to_sql(name=table_name, con=engine, if_exists='replace', index=False)"
      ],
      "metadata": {
        "id": "Br-gNDHUqBc6"
      },
      "execution_count": null,
      "outputs": []
    },
    {
      "cell_type": "code",
      "source": [],
      "metadata": {
        "id": "iU6Dp166Me_a"
      },
      "execution_count": null,
      "outputs": []
    },
    {
      "cell_type": "markdown",
      "source": [
        "\n",
        "\n",
        "```\n",
        "                                                                  Done\n",
        "```\n",
        "\n"
      ],
      "metadata": {
        "id": "NwDZ4edm-2x4"
      }
    },
    {
      "cell_type": "markdown",
      "source": [
        " # **AGGREAGATED USER :**"
      ],
      "metadata": {
        "id": "Uou8Eq0b_Ghs"
      }
    },
    {
      "cell_type": "code",
      "source": [
        "PATH  = '/content/pulse/data/aggregated/user/country/india/state'\n",
        "\n",
        "agg_users_state_names = os.listdir(path)\n",
        "\n",
        "# agg_users_state_names"
      ],
      "metadata": {
        "id": "yXKF0GU5-wE3"
      },
      "execution_count": null,
      "outputs": []
    },
    {
      "cell_type": "code",
      "source": [
        "\n",
        "user_data = {'state':[], 'year':[],'quater':[],'registered_users': [] ,\"agg_users_appopens\":[], 'agg_users_brand' :[] , 'agg_users_count':[],'agg_users_percentage':[]}\n",
        "\n",
        "\n",
        "for i in agg_users_state_names: # For Every States Names\n",
        "  agg_state_path = PATH+'/'+i+'/'\n",
        "  agg_states_years = os.listdir(agg_state_path)  # For\n",
        "  for year in agg_states_years:\n",
        "    file_path = agg_state_path+year+'/'\n",
        "    year_files = os.listdir(file_path)\n",
        "    for j in year_files:\n",
        "      f=file_path+j\n",
        "      data = open(f,'r')\n",
        "      file_ = json.load(data)\n",
        "      # ----------Data fill-------\n",
        "      if file_[\"data\"]['usersByDevice'] is not None:\n",
        "        for z in file_[\"data\"]['usersByDevice']:\n",
        "          Name = i\n",
        "          Year = year\n",
        "          Q = int(j.strip('.json'))\n",
        "          ru = file_['data']['aggregated']['registeredUsers']\n",
        "          ao = file_['data']['aggregated']['appOpens']\n",
        "          brand = z['brand']\n",
        "          count = z['count']\n",
        "          percentage = z[\"percentage\"]\n",
        "          user_data[\"state\"].append(Name)\n",
        "          user_data['year'].append(Year)\n",
        "          user_data['quater'].append(Q)\n",
        "          user_data['registered_users'].append(ru)\n",
        "          user_data[\"agg_users_appopens\"].append(ao)\n",
        "          user_data['agg_users_brand'].append(brand)\n",
        "          user_data['agg_users_count'].append(count)\n",
        "          user_data['agg_users_percentage'].append(percentage)\n",
        "      else:\n",
        "          Name = i\n",
        "          Year = year\n",
        "          Q = int(j.strip('.json'))\n",
        "          ru = file_['data']['aggregated']['registeredUsers']\n",
        "          ao = file_['data']['aggregated']['appOpens']\n",
        "\n",
        "          user_data[\"state\"].append(Name)\n",
        "          user_data['year'].append(Year)\n",
        "          user_data['quater'].append(Q)\n",
        "          user_data['registered_users'].append(ru)\n",
        "          user_data[\"agg_users_appopens\"].append(ao)\n",
        "          user_data['agg_users_brand'].append('Not Mentioned')\n",
        "          user_data['agg_users_count'].append(0)\n",
        "          user_data['agg_users_percentage'].append(0)\n",
        "\n"
      ],
      "metadata": {
        "id": "XMAC2bFpAS5f"
      },
      "execution_count": null,
      "outputs": []
    },
    {
      "cell_type": "code",
      "source": [
        "# Dataframe Creation\n",
        "\n",
        "agg_user_df = pd.DataFrame(user_data)"
      ],
      "metadata": {
        "id": "3kBatCJnWl9C"
      },
      "execution_count": null,
      "outputs": []
    },
    {
      "cell_type": "code",
      "source": [
        "agg_user_df.to_csv('aggregated_user.csv',index=False)"
      ],
      "metadata": {
        "id": "FVr0QlpWIl-9"
      },
      "execution_count": null,
      "outputs": []
    },
    {
      "cell_type": "code",
      "source": [
        "# Inserting Data into sql\n",
        "\n",
        "table_name = 'aggregated_user'\n",
        "\n",
        "agg_user_df.to_sql(name=table_name, con=engine, if_exists='replace', index=False)"
      ],
      "metadata": {
        "id": "Fdila7RxSutO"
      },
      "execution_count": null,
      "outputs": []
    },
    {
      "cell_type": "markdown",
      "source": [
        "#  **MAP TRANSACTION :**"
      ],
      "metadata": {
        "id": "0Y89J7_8ZkSq"
      }
    },
    {
      "cell_type": "code",
      "source": [
        "path = '/content/pulse/data/map/transaction/hover/country/india/state'\n",
        "\n",
        "map_state_names = os.listdir(path)\n",
        "\n",
        "# map_state_names"
      ],
      "metadata": {
        "id": "V4vEvPSdZmQe"
      },
      "execution_count": null,
      "outputs": []
    },
    {
      "cell_type": "code",
      "source": [
        "Map_Data = {'state':[],'year':[],'quater':[],'map_transaction_district':[],'map_transaction_type':[],'map_transaction_count':[],'map_transaction_amount':[]}\n",
        "\n",
        "for i in map_state_names:\n",
        "  map_state_path   = path + '/' + i + '/'\n",
        "  map_states_years = os.listdir(map_state_path)\n",
        "  for year in map_states_years:\n",
        "    file_path  = map_state_path + year + '/'\n",
        "    year_files = os.listdir(file_path)\n",
        "    for j in year_files:\n",
        "      f = file_path + j\n",
        "      data = open(f,'r')\n",
        "      file_ = json.load(data)\n",
        "      for z in file_['data'][\"hoverDataList\"]:\n",
        "        state_name =  i\n",
        "        Year = year\n",
        "        Q = int(j.strip('.json'))\n",
        "        dist_name = z['name']\n",
        "        type_  = z['metric'][0]['type'] if z['metric'][0]['type'] else \"Not Mentioned\"\n",
        "        count  = z['metric'][0]['count'] if z['metric'][0]['count'] else 0\n",
        "        amount = z['metric'][0]['amount'] if z['metric'][0]['amount'] else 0\n",
        "        Map_Data['state'].append(state_name)\n",
        "        Map_Data['map_transaction_district'].append(dist_name)\n",
        "        Map_Data['map_transaction_type'].append(type_)\n",
        "        Map_Data['map_transaction_count'].append(count)\n",
        "        Map_Data['map_transaction_amount'].append(amount)\n",
        "        Map_Data['year'].append(Year)\n",
        "        Map_Data['quater'].append(Q)\n"
      ],
      "metadata": {
        "id": "ueYDghYEr4Rv"
      },
      "execution_count": null,
      "outputs": []
    },
    {
      "cell_type": "code",
      "source": [
        "# Dataframe Creation\n",
        "\n",
        "Map_transaction_df = pd.DataFrame(Map_Data)\n"
      ],
      "metadata": {
        "id": "euMHdHrHsDSC"
      },
      "execution_count": null,
      "outputs": []
    },
    {
      "cell_type": "code",
      "source": [
        "Map_transaction_df.to_csv('map_transaction.csv',index=False)"
      ],
      "metadata": {
        "id": "9h4cmfL_sDFk"
      },
      "execution_count": null,
      "outputs": []
    },
    {
      "cell_type": "code",
      "source": [
        "# Inserting Data into sql\n",
        "\n",
        "table_name = 'Map_transaction'\n",
        "\n",
        "Map_df.to_sql(name=table_name, con=engine, if_exists='replace', index=False)"
      ],
      "metadata": {
        "id": "DxbJ54fIS5Mc"
      },
      "execution_count": null,
      "outputs": []
    },
    {
      "cell_type": "markdown",
      "source": [
        "# **MAP USER :**"
      ],
      "metadata": {
        "id": "ljmdbRKcxYgJ"
      }
    },
    {
      "cell_type": "code",
      "source": [
        "path = '/content/pulse/data/map/user/hover/country/india/state'\n",
        "\n",
        "\n",
        "map_state_names = os.listdir(path)"
      ],
      "metadata": {
        "id": "ppeI1j70sDC2"
      },
      "execution_count": null,
      "outputs": []
    },
    {
      "cell_type": "code",
      "source": [
        "Map_Data = {'state':[],'year':[],'quater':[],'map_user_district':[],'map_registered_users':[],'map_appopens':[]}\n",
        "\n",
        "for i in map_state_names:\n",
        "  map_state_path   = path + '/' + i + '/'\n",
        "  map_states_years = os.listdir(map_state_path)\n",
        "  for year in map_states_years:\n",
        "    file_path  = map_state_path + year + '/'\n",
        "    year_files = os.listdir(file_path)\n",
        "    for j in year_files:\n",
        "      f = file_path + j\n",
        "      data = open(f,'r')\n",
        "      file_ = json.load(data)\n",
        "      for z in file_['data'][\"hoverData\"]:\n",
        "         state_name = i\n",
        "         Year = year\n",
        "         q = int(j.strip('.json'))\n",
        "         Map_User_District = z\n",
        "         Map_Registered_Users = file_['data'][\"hoverData\"][z]['registeredUsers']\n",
        "         Map_appopens = file_['data'][\"hoverData\"][z]['appOpens']\n",
        "\n",
        "         Map_Data['state'].append(state_name)\n",
        "         Map_Data['year'].append(Year)\n",
        "         Map_Data['quater'].append(q)\n",
        "         Map_Data['map_user_district'].append(Map_User_District)\n",
        "         Map_Data['map_registered_users'].append(Map_Registered_Users)\n",
        "         Map_Data['map_appopens'].append(Map_appopens)"
      ],
      "metadata": {
        "id": "77iGItl-sC_x"
      },
      "execution_count": null,
      "outputs": []
    },
    {
      "cell_type": "code",
      "source": [
        "# Dataframe Creation\n",
        "\n",
        "Map_User_df = pd.DataFrame(Map_Data)"
      ],
      "metadata": {
        "id": "eXCUjf7y84av"
      },
      "execution_count": null,
      "outputs": []
    },
    {
      "cell_type": "code",
      "source": [
        "Map_User_df.to_csv(\"map_user.csv\",index=False)"
      ],
      "metadata": {
        "id": "uqZTh9xVATIe"
      },
      "execution_count": null,
      "outputs": []
    },
    {
      "cell_type": "code",
      "source": [
        "# Inserting Data into sql\n",
        "\n",
        "table_name = 'Map_user'\n",
        "\n",
        "Map_User_df.to_sql(name=table_name, con=engine, if_exists='replace', index=False)"
      ],
      "metadata": {
        "id": "uT4VkjptTRHI"
      },
      "execution_count": null,
      "outputs": []
    },
    {
      "cell_type": "markdown",
      "source": [
        "# **TOP TRANSACTION :**"
      ],
      "metadata": {
        "id": "_m79qVq6EC-5"
      }
    },
    {
      "cell_type": "code",
      "source": [
        "path = '/content/pulse/data/top/transaction/country/india/state'\n",
        "\n",
        "top_states_names = os.listdir(path)"
      ],
      "metadata": {
        "id": "ivxb5fezEJXX"
      },
      "execution_count": null,
      "outputs": []
    },
    {
      "cell_type": "code",
      "source": [
        "Top_data = {'state':[],'year':[],'quater':[],'top_transaction_district':[],'top_transaction_type':[],'top_transaction_count':[],'top_transaction_amount':[]}\n",
        "\n",
        "for i in top_states_names:\n",
        "  top_state_path   = path + '/' + i + '/'\n",
        "  top_states_years = os.listdir(top_state_path)\n",
        "  for year in top_states_years:\n",
        "    file_path  = top_state_path + year + '/'\n",
        "    year_files = os.listdir(file_path)\n",
        "    for j in year_files:\n",
        "      f = file_path + j\n",
        "      data = open(f,'r')\n",
        "      file_ = json.load(data)\n",
        "      for z in range(len(file_['data'][\"districts\"])):\n",
        "         state_name = i\n",
        "         Year = year\n",
        "         q = int(j.strip('.json'))\n",
        "         Top_Transaction_District = file_['data'][\"districts\"][z][\"entityName\"]\n",
        "         Top_Transaction_Type = file_['data'][\"districts\"][z][\"metric\"][\"type\"]\n",
        "         Top_Transaction_Count = file_['data'][\"districts\"][z][\"metric\"][\"count\"]\n",
        "         Top_Transaction_Amount = file_['data'][\"districts\"][z][\"metric\"][ \"amount\"]\n",
        "       # --------------------------------------------------------------------------------\n",
        "         Top_data['state'].append(state_name)\n",
        "         Top_data['year'].append(Year)\n",
        "         Top_data['quater'].append(q)\n",
        "         Top_data['top_transaction_district'].append(Top_Transaction_District )\n",
        "         Top_data['top_transaction_type'].append(Top_Transaction_Type)\n",
        "         Top_data['top_transaction_count'].append(Top_Transaction_Count)\n",
        "         Top_data['top_transaction_amount'].append(Top_Transaction_Amount)"
      ],
      "metadata": {
        "id": "M9ETxTbcEcKP"
      },
      "execution_count": null,
      "outputs": []
    },
    {
      "cell_type": "code",
      "source": [
        "# Dataframe Creation\n",
        "\n",
        "Top_transaction_df_dist = pd.DataFrame(Top_data)"
      ],
      "metadata": {
        "id": "pOIcxSazU7Rr"
      },
      "execution_count": null,
      "outputs": []
    },
    {
      "cell_type": "code",
      "source": [
        "Top_transaction_df_dist.to_csv('top_transaction_district_state.csv',index=False)"
      ],
      "metadata": {
        "id": "vSzPgn9WWRf6"
      },
      "execution_count": null,
      "outputs": []
    },
    {
      "cell_type": "code",
      "source": [
        "# Inserting Data into sql\n",
        "\n",
        "table_name = 'Top_transaction_df_dist'\n",
        "\n",
        "Top_transaction_df_dist.to_sql(name=table_name, con=engine, if_exists='replace', index=False)"
      ],
      "metadata": {
        "id": "jq4FPpKfTd40"
      },
      "execution_count": null,
      "outputs": []
    },
    {
      "cell_type": "markdown",
      "source": [
        "### **Pincodes :**"
      ],
      "metadata": {
        "id": "ViCro3QVXwyq"
      }
    },
    {
      "cell_type": "code",
      "source": [
        "Top_pincode_data = {'state':[],'year':[],'quater':[],'top_transaction_pincode':[],'top_transaction_type':[],'top_transaction_count':[],'top_transaction_amount':[]}\n",
        "\n",
        "for i in top_states_names:\n",
        "  top_state_path   = path + '/' + i + '/'\n",
        "  top_states_years = os.listdir(top_state_path)\n",
        "  for year in top_states_years:\n",
        "    file_path  = top_state_path + year + '/'\n",
        "    year_files = os.listdir(file_path)\n",
        "    for j in year_files:\n",
        "      f = file_path + j\n",
        "      data = open(f,'r')\n",
        "      file_ = json.load(data)\n",
        "      for z in range(len(file_['data'][\"pincodes\"])):\n",
        "         state_name = i\n",
        "         Year = year\n",
        "         q = int(j.strip('.json'))\n",
        "         Top_Transaction_Pincode = file_['data'][\"pincodes\"][z][\"entityName\"]\n",
        "         Top_Transaction_Type = file_['data'][\"pincodes\"][z][\"metric\"][\"type\"]\n",
        "         Top_Transaction_Count = file_['data'][\"pincodes\"][z][\"metric\"][\"count\"]\n",
        "         Top_Transaction_Amount = file_['data'][\"pincodes\"][z][\"metric\"][ \"amount\"]\n",
        "\n",
        "         Top_pincode_data ['state'].append(state_name)\n",
        "         Top_pincode_data ['year'].append(Year)\n",
        "         Top_pincode_data ['quater'].append(q)\n",
        "         Top_pincode_data ['top_transaction_pincode'].append(Top_Transaction_Pincode)\n",
        "         Top_pincode_data ['top_transaction_type'].append(Top_Transaction_Type)\n",
        "         Top_pincode_data ['top_transaction_count'].append(Top_Transaction_Count)\n",
        "         Top_pincode_data ['top_transaction_amount'].append(Top_Transaction_Amount)"
      ],
      "metadata": {
        "id": "KmwTa1NoXaNI"
      },
      "execution_count": null,
      "outputs": []
    },
    {
      "cell_type": "code",
      "source": [
        "# Dataframe Creation\n",
        "\n",
        "Top_pincode_data_df = pd.DataFrame(Top_pincode_data )"
      ],
      "metadata": {
        "id": "Qvv_8AcrZgAV"
      },
      "execution_count": null,
      "outputs": []
    },
    {
      "cell_type": "code",
      "source": [
        "Top_pincode_data_df.to_csv(\"top_pincode_data.csv\",index=False)"
      ],
      "metadata": {
        "id": "YzV0S0KeZnfE"
      },
      "execution_count": null,
      "outputs": []
    },
    {
      "cell_type": "code",
      "source": [
        "# Inserting Data into sql\n",
        "\n",
        "table_name = 'top_transaction_pincode'\n",
        "\n",
        "Top_pincode_data_df.to_sql(name=table_name, con=engine, if_exists='replace', index=False)"
      ],
      "metadata": {
        "id": "AyaPDyl-TxUJ"
      },
      "execution_count": null,
      "outputs": []
    },
    {
      "cell_type": "markdown",
      "source": [
        "# **TOP USER :**"
      ],
      "metadata": {
        "id": "CaoJ-AwKbkRQ"
      }
    },
    {
      "cell_type": "code",
      "source": [
        "path = '/content/pulse/data/top/user/country/india/state'\n",
        "\n",
        "top_states_names = os.listdir(path)"
      ],
      "metadata": {
        "id": "JL-D7Sk3andI"
      },
      "execution_count": null,
      "outputs": []
    },
    {
      "cell_type": "code",
      "source": [
        "Top_data = {'state':[],'year':[],'quater':[],'top_user_district':[],'top_registered_users':[]}\n",
        "\n",
        "for i in top_states_names:\n",
        "  top_state_path   = path + '/' + i + '/'\n",
        "  top_states_years = os.listdir(top_state_path)\n",
        "  for year in top_states_years:\n",
        "    file_path  = top_state_path + year + '/'\n",
        "    year_files = os.listdir(file_path)\n",
        "    for j in year_files:\n",
        "      f = file_path + j\n",
        "      data = open(f,'r')\n",
        "      file_ = json.load(data)\n",
        "      for z in range(len(file_['data'][\"districts\"])):\n",
        "         state_name = i\n",
        "         Year = year\n",
        "         q = int(j.strip('.json'))\n",
        "         Top_User_District = file_['data'][\"districts\"][z][\"name\"]\n",
        "         TopUser_Registered_users = file_['data'][\"districts\"][z][\"registeredUsers\"]\n",
        "\n",
        "         Top_data['state'].append(state_name)\n",
        "         Top_data['year'].append(Year)\n",
        "         Top_data['quater'].append(q)\n",
        "         Top_data['top_user_district'].append(Top_User_District)\n",
        "         Top_data['top_registered_users'].append(TopUser_Registered_users)"
      ],
      "metadata": {
        "id": "9JWGftzOb5BX"
      },
      "execution_count": null,
      "outputs": []
    },
    {
      "cell_type": "code",
      "source": [
        "# Dataframe Creation\n",
        "\n",
        "Top_User_District_data = pd.DataFrame(Top_data)"
      ],
      "metadata": {
        "id": "7ps7VNTPb496"
      },
      "execution_count": null,
      "outputs": []
    },
    {
      "cell_type": "code",
      "source": [
        "Top_User_District_data.to_csv('top_user_district_data.csv',index=False)"
      ],
      "metadata": {
        "id": "pnk_8cCEb47X"
      },
      "execution_count": null,
      "outputs": []
    },
    {
      "cell_type": "code",
      "source": [
        "# Inserting Data into sql\n",
        "\n",
        "table_name = 'top_user_district'\n",
        "\n",
        "Top_User_District_data.to_sql(name=table_name, con=engine, if_exists='replace', index=False)"
      ],
      "metadata": {
        "id": "QwLUuExVT3Ig"
      },
      "execution_count": null,
      "outputs": []
    },
    {
      "cell_type": "markdown",
      "source": [
        "### **Pincode :**"
      ],
      "metadata": {
        "id": "K_BihsfdeQ6T"
      }
    },
    {
      "cell_type": "code",
      "source": [
        "Top_data = {'state':[],'year':[],'quater':[],'top_user_pincode':[],'top_registered_users':[]}\n",
        "\n",
        "for i in top_states_names:\n",
        "  top_state_path   = path + '/' + i + '/'\n",
        "  top_states_years = os.listdir(top_state_path)\n",
        "  for year in top_states_years:\n",
        "    file_path  = top_state_path + year + '/'\n",
        "    year_files = os.listdir(file_path)\n",
        "    for j in year_files:\n",
        "      f = file_path + j\n",
        "      data = open(f,'r')\n",
        "      file_ = json.load(data)\n",
        "      for z in range(len(file_['data'][\"pincodes\"])):\n",
        "         state_name = i\n",
        "         Year = year\n",
        "         q = int(j.strip('.json'))\n",
        "         Top_User_Pincode = file_['data'][\"pincodes\"][z][\"name\"]\n",
        "         TopUser_Registered_users = file_['data'][\"pincodes\"][z][\"registeredUsers\"]\n",
        "\n",
        "         Top_data['state'].append(state_name)\n",
        "         Top_data['year'].append(Year)\n",
        "         Top_data['quater'].append(q)\n",
        "         Top_data['top_user_pincode'].append(Top_User_Pincode)\n",
        "         Top_data['top_registered_users'].append(TopUser_Registered_users)"
      ],
      "metadata": {
        "id": "0Ds7zRdoeQrx"
      },
      "execution_count": null,
      "outputs": []
    },
    {
      "cell_type": "code",
      "source": [
        "# Dataframe Creation\n",
        "\n",
        "Top_Users_Pincode_data  = pd.DataFrame(Top_data)"
      ],
      "metadata": {
        "id": "G3XhlWAOb447"
      },
      "execution_count": null,
      "outputs": []
    },
    {
      "cell_type": "code",
      "source": [
        "# Inserting Data into sql\n",
        "\n",
        "table_name = 'top_user_pincode'\n",
        "\n",
        "Top_Users_Pincode_data.to_sql(name=table_name, con=engine, if_exists='replace', index=False)"
      ],
      "metadata": {
        "id": "txkz54VqUS2A"
      },
      "execution_count": null,
      "outputs": []
    },
    {
      "cell_type": "markdown",
      "source": [
        "\n",
        "\n",
        "```\n",
        "                                                                               Finished\n",
        "```\n",
        "\n"
      ],
      "metadata": {
        "id": "7ie7uKhYUmdf"
      }
    }
  ]
}